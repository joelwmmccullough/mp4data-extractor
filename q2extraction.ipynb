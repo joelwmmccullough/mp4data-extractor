{
 "cells": [
  {
   "cell_type": "markdown",
   "id": "99968da4-1a9c-47f2-9cb2-b83b5237d57b",
   "metadata": {},
   "source": [
    "This program will require that you install the following modules in advance: "
   ]
  },
  {
   "cell_type": "raw",
   "id": "d7ecefef-376c-4404-8fd6-fb47fc1efba8",
   "metadata": {},
   "source": [
    "pip install OpenCV-python moviepy ffmpeg ffmpeg-python"
   ]
  },
  {
   "cell_type": "markdown",
   "id": "442a29eb-18b0-4ecb-949e-813cdbd47d4a",
   "metadata": {},
   "source": [
    "If you are on Mac, you may have to download an ffmpeg static build yourself from here, as the pip install and brew install versions are currently broken: https://evermeet.cx/ffmpeg/ (I'll go into more detail on the ffmpeg stuff in the second half of this document) "
   ]
  },
  {
   "cell_type": "markdown",
   "id": "bcf89b2a-e0d7-4082-a562-b6eddc2b20ea",
   "metadata": {},
   "source": [
    "If you are running this code on a Mac, run the following block of code after changing the path in line #2 to the path to your ffmpeg build: "
   ]
  },
  {
   "cell_type": "code",
   "execution_count": 13,
   "id": "94a79112-b848-4ed4-a1c0-2820e5476f31",
   "metadata": {},
   "outputs": [],
   "source": [
    "import os #imports the OS module, which we'll use for directory creation\n",
    "import ffmpeg #essential module for audio processing. it's currently extremely broken on Mac\n",
    "os.environ[\"IMAGEIO_FFMPEG_EXE\"] = r\"./ffmpeg\"\n",
    "import cv2 #essential module for A/V processing. \n",
    "from moviepy import * #essential module for A/V processing. "
   ]
  },
  {
   "cell_type": "markdown",
   "id": "11ac19b3-1229-47cd-88b2-3d7dc9afdb68",
   "metadata": {},
   "source": [
    "If you're running this code on a Windows computer, run the following block of code. Note that I only have a Mac computer so I couldn't test this. "
   ]
  },
  {
   "cell_type": "code",
   "execution_count": 14,
   "id": "1905500d-7e0b-4953-a145-ea067be8a792",
   "metadata": {},
   "outputs": [],
   "source": [
    "import os #imports the OS module, which we'll use for directory creation\n",
    "import ffmpeg #essential module for audio processing. \n",
    "import cv2 #imports the OpenCV library\n",
    "from moviepy import * #essential module for A/V processing. "
   ]
  },
  {
   "cell_type": "markdown",
   "id": "4551d27c-46be-43dd-ace3-dc694d145c7b",
   "metadata": {},
   "source": [
    "My goal going into this project is to take the given MP4 and extract the following data:\n",
    "1. A range of frames from the video, and\n",
    "2. The video's full audio track\n",
    "\n",
    "I've used the OpenCV Python library for some computer vision stuff in the past, and I know that it's capable of doing frame extraction, so I'll start there. "
   ]
  },
  {
   "cell_type": "code",
   "execution_count": 15,
   "id": "aaab0911-41d1-4f69-b9ca-c0edc1a9770c",
   "metadata": {},
   "outputs": [],
   "source": [
    "videoPath = \"./q2video.mp4\"\n",
    "\n",
    "#chronologically, this next bit of code is the last bit I wrote.\n",
    "#I got the frames to extract into the same directory as the python\n",
    "#code, and it became a mess really quickly, so it became obvious\n",
    "#that I would need to create a data folder to hold all the info we're\n",
    "#extracting. \n",
    "\n",
    "if not os.path.exists('data'):\n",
    "    os.makedirs('data')\n",
    "\n",
    "if not os.path.exists('data/frames'):\n",
    "    os.makedirs('data/frames')\n",
    "\n",
    "#here's the function to extract a range of frames from a video\n",
    "def extractFrames(path, firstFrame, lastFrame):\n",
    "\n",
    "    if lastFrame < firstFrame: \n",
    "        print(\"Frame range can't be negative!\")\n",
    "    \n",
    "    frameVal = 1 #counter for filenames of frames\n",
    "    \n",
    "    video = cv2.VideoCapture(path) #opens video internally\n",
    "    \n",
    "    if not video.isOpened(): #checks if above line worked\n",
    "        print(\"Failed to open video file\") \n",
    "\n",
    "    while video.isOpened():\n",
    "        \n",
    "        #I couldn't remember the exact function for reading frames, \n",
    "        #so I googled the documentation for it, but without even \n",
    "        #having to click on anything, Google's new AI overview feature \n",
    "        #gave me the exact function I was looking for. I've found this \n",
    "        #AI overview feature to be hit-or-miss but in this case it was a hit!\n",
    "        isOpen, frame = video.read()\n",
    "    \n",
    "        if isOpen:\n",
    "            if frameVal >= firstFrame:\n",
    "                #writes frame to a file only if it's within the given range at function call\n",
    "                cv2.imwrite(\"./data/frames/frame\" + str(frameVal) + \".jpg\", frame) \n",
    "\n",
    "            frameVal += 1\n",
    "            \n",
    "            if frameVal - 1 == lastFrame: \n",
    "                #closes OpenCV processing and ends function loop when all frames in range are extracted\n",
    "                video.release()\n",
    "                cv2.destroyAllWindows()"
   ]
  },
  {
   "cell_type": "markdown",
   "id": "5ad452d4-b766-4a3f-9cf8-85512eea49df",
   "metadata": {},
   "source": [
    "Everything should be working as intended. The code below will export the first five frames from the video:"
   ]
  },
  {
   "cell_type": "code",
   "execution_count": 16,
   "id": "d80f31e7-38bd-437d-80a5-20f1f3bbb8cf",
   "metadata": {},
   "outputs": [],
   "source": [
    "extractFrames(videoPath, 1,5)"
   ]
  },
  {
   "cell_type": "markdown",
   "id": "60e43fd5-db68-4c34-ab57-c0a33cbac24e",
   "metadata": {},
   "source": [
    "The code below will export frames ten through twenty."
   ]
  },
  {
   "cell_type": "code",
   "execution_count": 17,
   "id": "9a7cd063-9602-4358-a318-ea45577602d7",
   "metadata": {},
   "outputs": [],
   "source": [
    "extractFrames(videoPath, 10, 20)"
   ]
  },
  {
   "cell_type": "markdown",
   "id": "69b01d65-2f50-46ca-87dc-c6cbda64665a",
   "metadata": {},
   "source": [
    "The code below will return an error. "
   ]
  },
  {
   "cell_type": "code",
   "execution_count": 18,
   "id": "eeafd1ce-0175-4ecd-8db9-a427bcbb9c48",
   "metadata": {},
   "outputs": [
    {
     "name": "stdout",
     "output_type": "stream",
     "text": [
      "Frame range can't be negative!\n"
     ]
    }
   ],
   "source": [
    "extractFrames(videoPath, 20, 10)"
   ]
  },
  {
   "cell_type": "markdown",
   "id": "7fefcd08-c63e-4c64-8eab-2e75d7368303",
   "metadata": {},
   "source": [
    "Next step is to build a function to extract the audio track from the video. OpenCV is a computer vision library and isn't designed to handle audio, so I'll look elsewhere. A brief Google Search tells me that moviepy is a good library to use. "
   ]
  },
  {
   "cell_type": "code",
   "execution_count": 19,
   "id": "d47f2c75-2e43-4b2c-a768-8deef717aee7",
   "metadata": {},
   "outputs": [],
   "source": [
    "if not os.path.exists('data/audio'):\n",
    "    os.makedirs('data/audio')\n",
    "\n",
    "#I've never used MoviePy before, but it seems really simple to use. \n",
    "def extractAudio(videoPath): \n",
    "    audioPath = \"./data/audio/audio.mp3\"\n",
    "    video = VideoFileClip(videoPath) #loads up video\n",
    "    audio = video.audio #extracts audio from video\n",
    "\n",
    "    #audio is starting to no longer look like a real word anymore. do you do any work on semantic satiation?\n",
    "\n",
    "    audio.write_audiofile(audioPath) #writes audio file\n",
    "\n",
    "    #close the files\n",
    "    audio.close()\n",
    "    video.close()"
   ]
  },
  {
   "cell_type": "markdown",
   "id": "1f458fd8-08f5-40da-8116-5123d96e8b2f",
   "metadata": {},
   "source": [
    "It took me a whole morning to get ffmpeg working on my Mac. pip install and brew install wouldn't work no matter how hard I tried, so I ended up having to download a static ffmpeg binary. The second line of code above changes the ffmpeg path to point to the static binary I downloaded (I found it on a 4-year-old Reddit post: https://www.reddit.com/r/moviepy/comments/l0177r/ffmpeg_installation_newbie_question/), and after running the code three different times to get my Mac to finally understand that the code is safe to run, I finally got it functional. \n",
    "\n",
    "Based on how I wrote this, it should run perfectly on a Windows computer if you just comment out the second line of the above block of code, but I don't have a Windows computer to test this on. \n",
    "\n",
    "If you are running the program on a Mac, make sure to change the path to your ffmpeg file at the very top of this document if you haven't already. \n",
    "\n",
    "Running the line of code below will extract the audio from the video (It'll spit out some scary warnings, but they don't cause any problems): "
   ]
  },
  {
   "cell_type": "code",
   "execution_count": 20,
   "id": "99f48fa7-4d30-4722-9a83-b6e4d3bebec4",
   "metadata": {},
   "outputs": [
    {
     "name": "stderr",
     "output_type": "stream",
     "text": [
      "/Users/joelmccullough/my_env/lib/python3.13/site-packages/moviepy/video/io/ffmpeg_reader.py:496: UserWarning: Subtitle stream parsing is not supported by moviepy and will be ignored\n",
      "ffmpeg output:\n",
      "\n",
      "Input #0, mov,mp4,m4a,3gp,3g2,mj2, from './q2video.mp4':\n",
      "  Metadata:\n",
      "    major_brand     : mp42\n",
      "    minor_version   : 1\n",
      "    compatible_brands: isommp41mp42\n",
      "    creation_time   : 2023-04-11T16:52:04.000000Z\n",
      "  Duration: 00:01:30.66, start: 0.000000, bitrate: 5635 kb/s\n",
      "  Stream #0:0[0x1](eng): Audio: aac (LC) (mp4a / 0x6134706D), 48000 Hz, stereo, fltp, 126 kb/s (default)\n",
      "      Metadata:\n",
      "        creation_time   : 2023-04-11T16:52:04.000000Z\n",
      "        handler_name    : Core Media Audio\n",
      "        vendor_id       : [0][0][0][0]\n",
      "  Stream #0:1[0x2](eng): Audio: ac3 (ac-3 / 0x332D6361), 48000 Hz, 5.1(side), fltp, 384 kb/s\n",
      "      Metadata:\n",
      "        creation_time   : 2023-04-11T16:52:04.000000Z\n",
      "        handler_name    : Core Media Audio\n",
      "        vendor_id       : [0][0][0][0]\n",
      "      Side data:\n",
      "        audio service type: main\n",
      "  Stream #0:2[0x3](eng): Video: h264 (High) (avc1 / 0x31637661), yuv420p(progressive), 1920x1080 [SAR 1:1 DAR 16:9], 4950 kb/s, 23.98 fps, 23.98 tbr, 2997 tbn (default)\n",
      "      Metadata:\n",
      "        creation_time   : 2023-04-11T16:52:04.000000Z\n",
      "        handler_name    : Core Media Video\n",
      "        vendor_id       : [0][0][0][0]\n",
      "        encoder         : H.264\n",
      "  Stream #0:3[0x4](eng): Subtitle: eia_608 (cc_dec) (c608 / 0x38303663), 1920x1080, 0 kb/s\n",
      "      Metadata:\n",
      "        creation_time   : 2023-04-11T16:52:04.000000Z\n",
      "        handler_name    : Core Media Closed Caption\n",
      "At least one output file must be specified\n",
      "\n",
      "  warnings.warn(\n"
     ]
    },
    {
     "name": "stdout",
     "output_type": "stream",
     "text": [
      "MoviePy - Writing audio in ./data/audio/audio.mp3\n"
     ]
    },
    {
     "name": "stderr",
     "output_type": "stream",
     "text": [
      "                                                                                "
     ]
    },
    {
     "name": "stdout",
     "output_type": "stream",
     "text": [
      "MoviePy - Done.\n"
     ]
    }
   ],
   "source": [
    "extractAudio(videoPath)"
   ]
  },
  {
   "cell_type": "markdown",
   "id": "dd581c13-9b45-4114-a4fe-7aa351ae28c3",
   "metadata": {},
   "source": [
    "Just for the sake of convenience, I figure I might as well combine these into one single function, just so we can make them run at the same time. "
   ]
  },
  {
   "cell_type": "code",
   "execution_count": 21,
   "id": "282ac051-d23e-4b27-a434-e463b090da6a",
   "metadata": {},
   "outputs": [],
   "source": [
    "def extractData(path, firstFrame, lastFrame):\n",
    "    extractFrames(path, firstFrame, lastFrame)\n",
    "    extractAudio(path)"
   ]
  },
  {
   "cell_type": "markdown",
   "id": "1aa0f883-1a98-493f-9944-df4b8c0d50f7",
   "metadata": {},
   "source": [
    "And, to test that everything works, this next line should export frames 50 through 70, as well as the audio file: "
   ]
  },
  {
   "cell_type": "code",
   "execution_count": 22,
   "id": "6b9409da-eb93-44ea-84cc-479e03902e06",
   "metadata": {},
   "outputs": [
    {
     "name": "stdout",
     "output_type": "stream",
     "text": [
      "MoviePy - Writing audio in ./data/audio/audio.mp3\n"
     ]
    },
    {
     "name": "stderr",
     "output_type": "stream",
     "text": [
      "                                                                                "
     ]
    },
    {
     "name": "stdout",
     "output_type": "stream",
     "text": [
      "MoviePy - Done.\n"
     ]
    }
   ],
   "source": [
    "extractData(videoPath, 50, 70)"
   ]
  }
 ],
 "metadata": {
  "kernelspec": {
   "display_name": "Python 3 (ipykernel)",
   "language": "python",
   "name": "python3"
  },
  "language_info": {
   "codemirror_mode": {
    "name": "ipython",
    "version": 3
   },
   "file_extension": ".py",
   "mimetype": "text/x-python",
   "name": "python",
   "nbconvert_exporter": "python",
   "pygments_lexer": "ipython3",
   "version": "3.12.5"
  }
 },
 "nbformat": 4,
 "nbformat_minor": 5
}
